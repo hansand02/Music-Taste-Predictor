{
 "cells": [
  {
   "cell_type": "code",
   "execution_count": 89,
   "id": "1d3eae06",
   "metadata": {
    "scrolled": true
   },
   "outputs": [
    {
     "name": "stdout",
     "output_type": "stream",
     "text": [
      "En 20 år gammel kvinne, liker sannsynligvis\n",
      "['Acoustic']\n"
     ]
    },
    {
     "name": "stderr",
     "output_type": "stream",
     "text": [
      "/Users/hansandersen/anaconda3/lib/python3.11/site-packages/sklearn/base.py:464: UserWarning: X does not have valid feature names, but DecisionTreeClassifier was fitted with feature names\n",
      "  warnings.warn(\n"
     ]
    }
   ],
   "source": [
    "import pandas as pd\n",
    "from sklearn.tree import DecisionTreeClassifier\n",
    "from sklearn.model_selection import train_test_split\n",
    "from sklearn.metrics import accuracy_score\n",
    "import joblib\n",
    "import os\n",
    "\n",
    "def modelRunnerNewModel():\n",
    "    music_data = pd.read_csv('music.csv')\n",
    "    X = music_data.drop(columns=['genre'])\n",
    "    Y = music_data['genre']\n",
    "    X_train, X_test, Y_train, Y_test = train_test_split(X, Y, test_size=0.2)\n",
    "    model = simpleModel(X_train, Y_train)\n",
    "    predictions = model.predict(X_test)\n",
    "    score = accuracyMeasure(Y_test, predictions)\n",
    "    print(f\"Model Accuracy: {score * 100}%\")\n",
    "    \n",
    "def modelRunner(age:int, gender:int):\n",
    "    model = joblib.load('music-predictor.joblib')\n",
    "    predictions = model.predict([[age, gender]])\n",
    "    kjønn = \"mann\" if gender == 1 else \"kvinne\"\n",
    "    print(f\"En {age} år gammel {kjønn}, liker sannsynligvis\")\n",
    "    print(predictions)\n",
    "    \n",
    "def simpleModel(inputSet, outputSet):\n",
    "    model = DecisionTreeClassifier()\n",
    "    model.fit(inputSet, outputSet)\n",
    "    joblib.dump(model, 'music-predictor.joblib')\n",
    "    return model\n",
    "\n",
    "def accuracyMeasure(testData, predictions):\n",
    "    score = accuracy_score(testData, predictions)\n",
    "    return score\n",
    "\n",
    "\n",
    "if __name__ == \"__main__\":\n",
    "    if not os.path.isfile('music-predictor.joblib'):\n",
    "        modelRunnerNewModel()\n",
    "    modelRunner(20,0)\n",
    "    \n"
   ]
  },
  {
   "cell_type": "code",
   "execution_count": null,
   "id": "bbe62ad0",
   "metadata": {},
   "outputs": [],
   "source": []
  },
  {
   "cell_type": "code",
   "execution_count": null,
   "id": "f3d94611",
   "metadata": {},
   "outputs": [],
   "source": []
  },
  {
   "cell_type": "code",
   "execution_count": null,
   "id": "2ed5f26f",
   "metadata": {},
   "outputs": [],
   "source": []
  }
 ],
 "metadata": {
  "kernelspec": {
   "display_name": "Python 3 (ipykernel)",
   "language": "python",
   "name": "python3"
  },
  "language_info": {
   "codemirror_mode": {
    "name": "ipython",
    "version": 3
   },
   "file_extension": ".py",
   "mimetype": "text/x-python",
   "name": "python",
   "nbconvert_exporter": "python",
   "pygments_lexer": "ipython3",
   "version": "3.11.4"
  }
 },
 "nbformat": 4,
 "nbformat_minor": 5
}
